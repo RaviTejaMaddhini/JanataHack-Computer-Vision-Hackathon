{
 "cells": [
  {
   "cell_type": "code",
   "execution_count": 4,
   "metadata": {},
   "outputs": [
    {
     "name": "stdout",
     "output_type": "stream",
     "text": [
      "Hello\n"
     ]
    }
   ],
   "source": [
    "import cv2 as cv\n",
    "import pandas as pd \n",
    "import numpy as np \n",
    "\n",
    "from tensorflow.keras.preprocessing.image import ImageDataGenerator\n",
    "import pandas as pd\n",
    "from tensorflow.keras.layers import Conv2D,MaxPool2D,Dense,Flatten,Dropout,AveragePooling2D,BatchNormalization,Dense,Dropout\n",
    "import matplotlib.pyplot as plt\n",
    "from PIL import Image\n",
    "\n",
    "from tensorflow.keras.models import load_model\n",
    "from tensorflow.keras.applications import VGG16,ResNet50,DenseNet121\n",
    "from tensorflow.keras.applications.densenet import preprocess_input\n",
    "from tensorflow.keras import models\n",
    "from sklearn.utils import class_weight\n",
    "from tensorflow.keras.callbacks import ModelCheckpoint\n",
    "from tensorflow.keras import *\n",
    "\n",
    "import random\n",
    "random.seed(0)\n",
    "print(\"Hello\")"
   ]
  },
  {
   "cell_type": "code",
   "execution_count": 5,
   "metadata": {},
   "outputs": [
    {
     "name": "stdout",
     "output_type": "stream",
     "text": [
      "Found 1533 images belonging to 2 classes.\n",
      "Found 100 images belonging to 2 classes.\n",
      "[0 0 0 ... 1 1 1]\n",
      "{'emergency': 0, 'noemergency': 1}\n",
      "[1.23033708 0.84230769]\n"
     ]
    },
    {
     "name": "stderr",
     "output_type": "stream",
     "text": [
      "/opt/conda/lib/python3.7/importlib/_bootstrap.py:219: RuntimeWarning: numpy.ufunc size changed, may indicate binary incompatibility. Expected 192 from C header, got 216 from PyObject\n",
      "  return f(*args, **kwds)\n"
     ]
    }
   ],
   "source": [
    "train_datagen=ImageDataGenerator(horizontal_flip=True,preprocessing_function=preprocess_input,\n",
    "                                 width_shift_range=0.2,\n",
    "                                 zoom_range=0.2,\n",
    "                                height_shift_range=0.2,\n",
    "                                 rotation_range=30)\n",
    "test_datagen=ImageDataGenerator(preprocessing_function=preprocess_input)\n",
    "\n",
    "\n",
    "traindir=\"data/train\"\n",
    "testdir=\"data/val\"\n",
    "\n",
    "train_generator=train_datagen.flow_from_directory(\n",
    "    traindir,\n",
    "    target_size =(224,224),\n",
    "    class_mode=\"categorical\",\n",
    "    batch_size=64\n",
    ")\n",
    "\n",
    "test_generator=test_datagen.flow_from_directory(\n",
    "testdir,\n",
    "target_size =(224,224),\n",
    "class_mode=\"categorical\",\n",
    "batch_size=64\n",
    ")\n",
    "\n",
    "class_weights = class_weight.compute_class_weight(\n",
    "               'balanced',\n",
    "                np.unique(train_generator.classes), \n",
    "                train_generator.classes)\n",
    "\n",
    "\n",
    "\n",
    "print(train_generator.classes)\n",
    "print(train_generator.class_indices)\n",
    "print(class_weights)"
   ]
  },
  {
   "cell_type": "code",
   "execution_count": 7,
   "metadata": {},
   "outputs": [
    {
     "name": "stdout",
     "output_type": "stream",
     "text": [
      "Model: \"sequential_1\"\n",
      "_________________________________________________________________\n",
      "Layer (type)                 Output Shape              Param #   \n",
      "=================================================================\n",
      "densenet121 (Model)          (None, 7, 7, 1024)        7037504   \n",
      "_________________________________________________________________\n",
      "flatten_1 (Flatten)          (None, 50176)             0         \n",
      "_________________________________________________________________\n",
      "dense_1 (Dense)              (None, 2)                 100354    \n",
      "=================================================================\n",
      "Total params: 7,137,858\n",
      "Trainable params: 7,054,210\n",
      "Non-trainable params: 83,648\n",
      "_________________________________________________________________\n"
     ]
    }
   ],
   "source": [
    "resnet=DenseNet121(weights=\"imagenet\",include_top=False,input_shape=(224,224,3))\n",
    "model=models.Sequential()\n",
    "model.add(resnet)\n",
    "model.add(Flatten())\n",
    "# model.add(Dropout(0.8))\n",
    "model.add(Dense(2,activation=\"softmax\"))\n",
    "model.summary()"
   ]
  },
  {
   "cell_type": "code",
   "execution_count": 16,
   "metadata": {},
   "outputs": [],
   "source": [
    "# x,y = test_generator.next()\n",
    "# for i in range(0,15):\n",
    "#     image = x[i]\n",
    "#     label = y[i]\n",
    "#     print (label)\n",
    "#     plt.imshow(image)\n",
    "#     plt.show()"
   ]
  },
  {
   "cell_type": "code",
   "execution_count": null,
   "metadata": {},
   "outputs": [],
   "source": [
    "\n",
    "sgd = optimizers.Nadam(lr=0.00001)\n",
    "checkpoint = ModelCheckpoint('./models/model-{epoch:03d}.h5', verbose=1, monitor='val_accuracy',save_best_only=True, mode='auto')  \n",
    "model.compile(loss='categorical_crossentropy', optimizer=sgd, metrics=['accuracy'])\n",
    "\n",
    "history = model.fit_generator( train_generator,\n",
    "                              epochs=50, \n",
    "                              validation_data=test_generator,\n",
    "                              class_weight={0:1.22503962,1:0.84480874},callbacks=[checkpoint])"
   ]
  },
  {
   "cell_type": "code",
   "execution_count": null,
   "metadata": {},
   "outputs": [],
   "source": [
    "model.save(\"model.h5\")"
   ]
  }
 ],
 "metadata": {
  "kernelspec": {
   "display_name": "Python 3",
   "language": "python",
   "name": "python3"
  },
  "language_info": {
   "codemirror_mode": {
    "name": "ipython",
    "version": 3
   },
   "file_extension": ".py",
   "mimetype": "text/x-python",
   "name": "python",
   "nbconvert_exporter": "python",
   "pygments_lexer": "ipython3",
   "version": "3.6.9"
  }
 },
 "nbformat": 4,
 "nbformat_minor": 2
}
